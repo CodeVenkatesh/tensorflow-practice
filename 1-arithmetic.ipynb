{
 "cells": [
  {
   "cell_type": "markdown",
   "metadata": {},
   "source": [
    "# Part 1: Arithmetic and More\n",
    "\n",
    "Although TensorFlow is designed for training neural networks, it can be used almost like any other programming language, with support for general arithmetic, control flow, and more. This offers a eaiser way to get started in TensorFlow without getting caught up in the theory of machine learning. \n",
    "\n",
    "This set of tutorials assumes that you are already familiar with Python. Familiarity with NumPy is a plus, but not a requirement."
   ]
  },
  {
   "cell_type": "markdown",
   "metadata": {},
   "source": [
    "## Basics\n",
    "\n",
    "Let's get started! First, import TensorFlow."
   ]
  },
  {
   "cell_type": "code",
   "execution_count": 1,
   "metadata": {
    "collapsed": true
   },
   "outputs": [],
   "source": [
    "import tensorflow as tf"
   ]
  },
  {
   "cell_type": "markdown",
   "metadata": {},
   "source": [
    "When you declare a variable, constant, or operation in TensorFlow, it gets added to a graph in the background as a node. **The node's value is not computed immediately when it is declared.** Instead, it gets it value when the graph is \"executed\".\n",
    "\n",
    "In the following example, we make a constant that holds some text. But when we try to print it, we see that it's just a node that doesn't hold a value yet."
   ]
  },
  {
   "cell_type": "code",
   "execution_count": 2,
   "metadata": {
    "collapsed": false
   },
   "outputs": [
    {
     "name": "stdout",
     "output_type": "stream",
     "text": [
      "Tensor(\"Const:0\", shape=(), dtype=string)\n"
     ]
    }
   ],
   "source": [
    "hello = tf.constant(\"Hello TensorFlow!\")\n",
    "print hello"
   ]
  },
  {
   "cell_type": "markdown",
   "metadata": {},
   "source": [
    "We'll get what's a Tensor in a moment. First, how can we actually get our text to print?\n",
    "\n",
    "**A TensorFlow Session allocates memory and allows nodes in a graph to be executed or evaluated.** In this case, we evaluate the constant node `hello` and its value is returned."
   ]
  },
  {
   "cell_type": "code",
   "execution_count": 3,
   "metadata": {
    "collapsed": false
   },
   "outputs": [
    {
     "name": "stdout",
     "output_type": "stream",
     "text": [
      "Hello TensorFlow!\n"
     ]
    }
   ],
   "source": [
    "sess = tf.Session()\n",
    "print sess.run(hello)"
   ]
  },
  {
   "cell_type": "markdown",
   "metadata": {},
   "source": [
    "## Arithmetic\n",
    "\n",
    "Arithmetic is the core of TensorFlow. The next example computes $3 \\times 4 + 5 = 17$. Note that with TensorFlow, some operators like `+` and `*` are overloaded. **But even when you use operators like `+` and `*`, TensorFlow is still creating nodes in the graph.**\n",
    "\n",
    "Think about what should happen when we try to evaluate `a4` or `a5`. It needs `tf.multiply(a1, a2)` and `a3` to be evaluated first. After those happen, we get $17$."
   ]
  },
  {
   "cell_type": "code",
   "execution_count": 4,
   "metadata": {
    "collapsed": false
   },
   "outputs": [
    {
     "name": "stdout",
     "output_type": "stream",
     "text": [
      "17\n",
      "17\n"
     ]
    }
   ],
   "source": [
    "a1 = tf.constant(3)\n",
    "a2 = tf.constant(4)\n",
    "a3 = tf.constant(5)\n",
    "a4 = tf.add(tf.multiply(a1, a2), a3)\n",
    "a5 = a1 * a2 + a3\n",
    "\n",
    "print sess.run(a4)\n",
    "print sess.run(a5)"
   ]
  },
  {
   "cell_type": "markdown",
   "metadata": {},
   "source": [
    "As mentioned earlier, **Tensors are n-dimensional arrays that can be passed between operations in a graph.** It's the same idea as an `ndarray` in NumPy. Previously, our Tensors were rank 0, or scalars. In the following example, we'll use Tensors of rank 1 (vectors) and Tensors of rank 2 (matrices). As you can guess, rank is the number of dimensions in a Tensor. The shape of a Tensor is a list containing its size in each dimension.\n",
    "\n",
    "You might be wondering why TensorFlow uses a graph and computes everything at the end, instead of when nodes are declared. One reason is so that there can be placeholders - Tensors that can be operated on just like constant Tensors, but their value is unknown until specified when evaluating. However, you must specify the datatype of a placeholder when declaring it, and while not necessary, it's often good practice to specify the shape too. Here, we let `x` be a placeholder.\n",
    "\n",
    "**Note that \\* refers to element-wise multiplication**, so we need to use `tf.matmul` for matrix multiplication. Also, we need to force `W` and `b` to floats in order to match the datatype of `x`."
   ]
  },
  {
   "cell_type": "code",
   "execution_count": 5,
   "metadata": {
    "collapsed": false
   },
   "outputs": [
    {
     "name": "stdout",
     "output_type": "stream",
     "text": [
      "Tensor(\"Placeholder:0\", shape=(3, 2), dtype=float32)\n",
      "Tensor(\"Const_4:0\", shape=(2, 2), dtype=float32)\n",
      "Tensor(\"Const_5:0\", shape=(2,), dtype=float32)\n",
      "Tensor(\"add_1:0\", shape=(3, 2), dtype=float32)\n"
     ]
    }
   ],
   "source": [
    "x = tf.placeholder(tf.float32, shape=[3, 2])\n",
    "W = tf.constant([[2, 0], [0, 2]], tf.float32)\n",
    "b = tf.constant([0, 5], tf.float32)\n",
    "result = tf.matmul(x, W) + b\n",
    "\n",
    "print x\n",
    "print W\n",
    "print b\n",
    "print result"
   ]
  },
  {
   "cell_type": "markdown",
   "metadata": {},
   "source": [
    "The operations we just declared computes\n",
    "\n",
    "$$x \\begin{bmatrix} 2 & 0 \\\\ 0 & 2 \\end{bmatrix} + \\begin{bmatrix} 0 & 5 \\end{bmatrix}$$\n",
    "\n",
    "where $\\begin{bmatrix} 0 & 5 \\end{bmatrix}$ is broadcast to every row, [much like in NumPy](https://docs.scipy.org/doc/numpy-1.12.0/user/basics.broadcasting.html). **We can pass a value to `x` by specifying it in a dictionary.** When something is executed, `x` takes the specified value if needed. Then, `result` returns the following as expected.\n",
    "\n",
    "$$\\begin{bmatrix} 1 & 1 \\\\ 2 & 1 \\\\ 1 & 2 \\end{bmatrix} \\begin{bmatrix} 2 & 0 \\\\ 0 & 2 \\end{bmatrix} + \\begin{bmatrix} 0 & 5 \\end{bmatrix} = \\begin{bmatrix} 2 & 7 \\\\ 4 & 7 \\\\ 2 & 9 \\end{bmatrix}$$"
   ]
  },
  {
   "cell_type": "code",
   "execution_count": 6,
   "metadata": {
    "collapsed": false
   },
   "outputs": [
    {
     "name": "stdout",
     "output_type": "stream",
     "text": [
      "[[ 2.  7.]\n",
      " [ 4.  7.]\n",
      " [ 2.  9.]]\n"
     ]
    }
   ],
   "source": [
    "print sess.run(result, {x: [[1, 1], [2, 1], [1, 2]]})"
   ]
  },
  {
   "cell_type": "markdown",
   "metadata": {},
   "source": [
    "For reference, TensorFlow also has `tf.subtract` (overloaded `-`), `tf.divide` (overloaded `/`), `tf.mod` (overloaded `%`), `tf.pow` (overloaded `**`), `tf.sqrt`, `tf.sin`, `tf.cos`, `tf.tan`, and much more that can be found on [the TensorFlow documentation](https://www.tensorflow.org/api_guides/python/math_ops)."
   ]
  },
  {
   "cell_type": "markdown",
   "metadata": {},
   "source": [
    "## Basic Control Flow\n",
    "\n",
    "Finally, I wanted to touch on how to manage control flow in TensorFlow. Although these operations are used far less than arithmetic in neural network training, they demonstrate how you can really do anything you want in TensorFlow. \n",
    "\n",
    "Let's start with what is essentially the if statement, which works like the ternary operator in many programming languages. The syntax is:\n",
    "\n",
    "```python\n",
    "tf.cond(condition, func_if_true, func_if_false)\n",
    "```"
   ]
  },
  {
   "cell_type": "code",
   "execution_count": 7,
   "metadata": {
    "collapsed": false
   },
   "outputs": [
    {
     "name": "stdout",
     "output_type": "stream",
     "text": [
      "The condition was indeed true.\n",
      "The condition... it wasn't true!\n"
     ]
    }
   ],
   "source": [
    "condition1 = tf.placeholder(tf.bool)\n",
    "f1 = lambda: tf.constant(\"The condition was indeed true.\")\n",
    "f2 = lambda: tf.constant(\"The condition... it wasn't true!\")\n",
    "sentence1 = tf.cond(condition1, f1, f2)\n",
    "\n",
    "print sess.run(sentence1, {condition1: True})\n",
    "print sess.run(sentence1, {condition1: False})"
   ]
  },
  {
   "cell_type": "markdown",
   "metadata": {},
   "source": [
    "Importantly, **`tf.cond` requires the condition be a boolean Tensor**, not just a Python bool. Instead of specifying a condition directly, we can also use something like `tf.equal` to condition based on something else. Here, we check if the given input is equal to 2.5."
   ]
  },
  {
   "cell_type": "code",
   "execution_count": 8,
   "metadata": {
    "collapsed": false
   },
   "outputs": [
    {
     "name": "stdout",
     "output_type": "stream",
     "text": [
      "The condition was indeed true.\n",
      "The condition... it wasn't true!\n"
     ]
    }
   ],
   "source": [
    "val = tf.placeholder(tf.float32)\n",
    "const = tf.constant(2.5)\n",
    "\n",
    "condition2 = tf.equal(val, const)\n",
    "\n",
    "sentence2 = tf.cond(condition2, f1, f2)\n",
    "\n",
    "print sess.run(sentence2, {val: 2.5})\n",
    "print sess.run(sentence2, {val: 3.5})"
   ]
  },
  {
   "cell_type": "markdown",
   "metadata": {},
   "source": [
    "TensorFlow also supports the other comparison operators you're familiar with, namely ```tf.not_equal```, ```tf.less```, ```tf.less_equal```, ```tf.greater```, and ```tf.greater_equal```. **While ```tf.equal``` and ```tf.not_equal``` do not support operator overloading, the other four do.**\n",
    "\n",
    "```tf.equal``` and its cousins also have a second use that doesn't relate much to control flow. When used to compare non-scalar Tensors, ```tf.equal``` returns a Tensor that is ```True``` in every location where the two are equal and ```False``` elsewhere. For example, comparing ```[1, 2]``` with ```[1, 1]``` would return ```[True, False]```. As we'll see quite soon in the next part, this can be very useful."
   ]
  },
  {
   "cell_type": "markdown",
   "metadata": {},
   "source": [
    "## Wrap-up\n",
    "\n",
    "Remember to **close the Session when you're done** to free up resources."
   ]
  },
  {
   "cell_type": "code",
   "execution_count": 9,
   "metadata": {
    "collapsed": true
   },
   "outputs": [],
   "source": [
    "sess.close()"
   ]
  },
  {
   "cell_type": "markdown",
   "metadata": {},
   "source": [
    "In this part, we learned about the following:\n",
    "\n",
    "* The TensorFlow Graph, nodes, and Session\n",
    "```python\n",
    "Session.run(node_to_evaluate, optional: placeholder_dict)\n",
    "Session.close()\n",
    "```\n",
    "* Tensor rank, usage, and broadcasting\n",
    "```python\n",
    "tf.constant(value, optional: datatype)\n",
    "tf.placeholder(datatype, optional: shape)\n",
    "```\n",
    "* Arithmetic operations\n",
    "```python\n",
    "tf.add(a, b)\n",
    "tf.multiply(a, b)\n",
    "tf.matmul(a, b)\n",
    "```\n",
    "* Basic control flow\n",
    "```python\n",
    "tf.cond(condition, func_if_true, func_if_false)\n",
    "tf.equal(a, b)\n",
    "```\n",
    "* Operator overloading\n",
    "\n",
    "We're now ready to start training machine learning models with TensorFlow!"
   ]
  }
 ],
 "metadata": {
  "kernelspec": {
   "display_name": "Python [tf-gpu]",
   "language": "python",
   "name": "Python [tf-gpu]"
  },
  "language_info": {
   "codemirror_mode": {
    "name": "ipython",
    "version": 2
   },
   "file_extension": ".py",
   "mimetype": "text/x-python",
   "name": "python",
   "nbconvert_exporter": "python",
   "pygments_lexer": "ipython2",
   "version": "2.7.13"
  }
 },
 "nbformat": 4,
 "nbformat_minor": 0
}
