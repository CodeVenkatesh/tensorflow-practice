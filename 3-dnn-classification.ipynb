{
 "cells": [
  {
   "cell_type": "code",
   "execution_count": 1,
   "metadata": {
    "collapsed": false
   },
   "outputs": [
    {
     "name": "stdout",
     "output_type": "stream",
     "text": [
      "Extracting data/mnist/train-images-idx3-ubyte.gz\n",
      "Extracting data/mnist/train-labels-idx1-ubyte.gz\n",
      "Extracting data/mnist/t10k-images-idx3-ubyte.gz\n",
      "Extracting data/mnist/t10k-labels-idx1-ubyte.gz\n"
     ]
    }
   ],
   "source": [
    "import tensorflow as tf\n",
    "from tensorflow.examples.tutorials.mnist import input_data\n",
    "mnist = input_data.read_data_sets(\"data/mnist/\", one_hot=True)"
   ]
  },
  {
   "cell_type": "code",
   "execution_count": 2,
   "metadata": {
    "collapsed": true
   },
   "outputs": [],
   "source": [
    "x = tf.placeholder(tf.float32, [None, 784])\n",
    "W_1 = tf.Variable(tf.random_normal([784, 64], stddev=0.1))\n",
    "b_1 = tf.Variable(tf.zeros([64]))\n",
    "relu_1 = tf.nn.relu(tf.matmul(x, W_1) + b_1)\n",
    "\n",
    "W_2 = tf.Variable(tf.random_normal([64, 10], stddev=0.1))\n",
    "b_2 = tf.Variable(tf.zeros([10]))\n",
    "y = tf.matmul(relu_1, W_2) + b_2"
   ]
  },
  {
   "cell_type": "code",
   "execution_count": 3,
   "metadata": {
    "collapsed": true
   },
   "outputs": [],
   "source": [
    "y_true = tf.placeholder(tf.float32, [None, 10])\n",
    "loss = tf.reduce_mean(tf.nn.softmax_cross_entropy_with_logits(logits=y, labels=y_true))"
   ]
  },
  {
   "cell_type": "code",
   "execution_count": 4,
   "metadata": {
    "collapsed": true
   },
   "outputs": [],
   "source": [
    "step = tf.train.AdamOptimizer(1e-4).minimize(loss)\n",
    "\n",
    "sess = tf.Session()"
   ]
  },
  {
   "cell_type": "code",
   "execution_count": 5,
   "metadata": {
    "collapsed": false
   },
   "outputs": [
    {
     "name": "stdout",
     "output_type": "stream",
     "text": [
      "loss at step 0: 2.39860534668\n",
      "loss at step 2000: 0.274626970291\n",
      "loss at step 4000: 0.227513238788\n",
      "loss at step 6000: 0.228394180536\n",
      "loss at step 8000: 0.162241518497\n",
      "loss at step 10000: 0.199010193348\n",
      "loss at step 12000: 0.137280642986\n",
      "loss at step 14000: 0.103172153234\n",
      "loss at step 16000: 0.0790422558784\n",
      "loss at step 18000: 0.135820314288\n",
      "loss at step 20000: 0.0621339567006\n",
      "loss at step 22000: 0.0516394078732\n",
      "loss at step 24000: 0.0784318372607\n",
      "loss at step 26000: 0.0257143322378\n",
      "loss at step 28000: 0.0849292576313\n",
      "loss at step 30000: 0.0290626883507\n"
     ]
    }
   ],
   "source": [
    "sess.run(tf.global_variables_initializer())\n",
    "\n",
    "for i in range(30001):\n",
    "    x_batch, y_batch = mnist.train.next_batch(128)\n",
    "    _, current_loss = sess.run([step, loss], feed_dict={x: x_batch, y_true: y_batch})\n",
    "    if i % 2000 == 0:\n",
    "        print \"loss at step {}: {}\".format(i, current_loss)"
   ]
  },
  {
   "cell_type": "code",
   "execution_count": 6,
   "metadata": {
    "collapsed": false
   },
   "outputs": [
    {
     "name": "stdout",
     "output_type": "stream",
     "text": [
      "0.9702\n"
     ]
    }
   ],
   "source": [
    "percent_correct = tf.reduce_mean(tf.cast(tf.equal(tf.argmax(y, 1), tf.argmax(y_true, 1)), tf.float32))\n",
    "print sess.run(percent_correct, feed_dict={x: mnist.test.images, y_true: mnist.test.labels})"
   ]
  },
  {
   "cell_type": "code",
   "execution_count": 7,
   "metadata": {
    "collapsed": true
   },
   "outputs": [],
   "source": [
    "sess.close()"
   ]
  },
  {
   "cell_type": "code",
   "execution_count": null,
   "metadata": {
    "collapsed": true
   },
   "outputs": [],
   "source": []
  }
 ],
 "metadata": {
  "kernelspec": {
   "display_name": "Python [tf-gpu]",
   "language": "python",
   "name": "Python [tf-gpu]"
  },
  "language_info": {
   "codemirror_mode": {
    "name": "ipython",
    "version": 2
   },
   "file_extension": ".py",
   "mimetype": "text/x-python",
   "name": "python",
   "nbconvert_exporter": "python",
   "pygments_lexer": "ipython2",
   "version": "2.7.13"
  }
 },
 "nbformat": 4,
 "nbformat_minor": 0
}
