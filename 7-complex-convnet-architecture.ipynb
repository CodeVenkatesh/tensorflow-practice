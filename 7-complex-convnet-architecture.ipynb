{
 "cells": [
  {
   "cell_type": "code",
   "execution_count": 1,
   "metadata": {
    "collapsed": false
   },
   "outputs": [
    {
     "name": "stdout",
     "output_type": "stream",
     "text": [
      "Unpickling and reshaping data\n",
      "Finished unpickling and reshaping data\n"
     ]
    }
   ],
   "source": [
    "import tensorflow as tf\n",
    "import math\n",
    "from get_data import get_cifar_10\n",
    "\n",
    "cifar_10 = get_cifar_10(\"data/cifar_10/\", augment_image=True, validation_size=1000)"
   ]
  },
  {
   "cell_type": "code",
   "execution_count": 2,
   "metadata": {
    "collapsed": true
   },
   "outputs": [],
   "source": [
    "def weight_variable(shape):\n",
    "    return tf.Variable(tf.truncated_normal(shape, stddev=0.1))\n",
    "\n",
    "def batch_normalize(x, axes, depth):\n",
    "    offset = tf.Variable(tf.zeros([depth]))\n",
    "    scale = tf.Variable(tf.ones([depth]))\n",
    "    \n",
    "    moving_mean = tf.Variable(tf.zeros([depth]), trainable=False)\n",
    "    moving_variance = tf.Variable(tf.zeros([depth]), trainable=False)\n",
    "    \n",
    "    def moving_values():\n",
    "        return moving_mean, moving_variance\n",
    "    \n",
    "    def batch_values():\n",
    "        batch_mean, batch_variance = tf.nn.moments(x, axes)\n",
    "        assign_moving_mean = tf.assign(moving_mean, 0.01 * batch_mean + 0.99 * moving_mean)\n",
    "        assign_moving_variance = tf.assign(moving_variance, 0.01 * batch_variance + 0.99 * moving_variance)\n",
    "        with tf.control_dependencies([assign_moving_mean, assign_moving_variance]):\n",
    "            batch_mean_copy = tf.identity(batch_mean)\n",
    "            batch_variance_copy = tf.identity(batch_variance)\n",
    "        return batch_mean_copy, batch_variance_copy\n",
    "    \n",
    "    mean, variance = tf.cond(test_time, moving_values, batch_values)\n",
    "    \n",
    "    return tf.nn.batch_normalization(x, mean, variance, offset, scale, variance_epsilon=1e-5)\n",
    "\n",
    "def conv_block(x, depth_in, depth_out):\n",
    "    W_1 = weight_variable([1, 1, depth_in, depth_out / 2])\n",
    "    W_2 = weight_variable([3, 3, depth_out / 2, depth_out / 2])\n",
    "    W_3 = weight_variable([1, 1, depth_out / 2, depth_out])\n",
    "    \n",
    "    conv_1 = tf.nn.relu(batch_normalize(tf.nn.conv2d(x, W_1, strides=[1, 1, 1, 1], padding='SAME'), [0, 1, 2], depth_out / 2))\n",
    "    conv_2 = tf.nn.relu(batch_normalize(tf.nn.conv2d(conv_1, W_2, strides=[1, 1, 1, 1], padding='SAME'), [0, 1, 2], depth_out / 2))\n",
    "    conv_3 = tf.nn.relu(batch_normalize(tf.nn.conv2d(conv_2, W_3, strides=[1, 1, 1, 1], padding='SAME'), [0, 1, 2], depth_out))\n",
    "    \n",
    "    return conv_3\n",
    "\n",
    "def max_pool(x):\n",
    "    return tf.nn.max_pool(x, ksize=[1, 2, 2, 1], strides=[1, 2, 2, 1], padding='SAME')\n",
    "\n",
    "def fc(x, W, depth, keep_prob):\n",
    "    return tf.nn.dropout(tf.nn.relu(batch_normalize(tf.matmul(x, W), [0], depth)), keep_prob)"
   ]
  },
  {
   "cell_type": "code",
   "execution_count": 3,
   "metadata": {
    "collapsed": false
   },
   "outputs": [],
   "source": [
    "x = tf.placeholder(tf.float32, [None, 24, 24, 3])\n",
    "keep_prob = tf.placeholder(tf.float32)\n",
    "test_time = tf.placeholder(tf.bool)\n",
    "\n",
    "conv_1 = conv_block(x, 3, 128)\n",
    "conv_2 = conv_block(conv_1, 128, 128)\n",
    "max_pool_2 = max_pool(conv_2)\n",
    "\n",
    "conv_3 = conv_block(max_pool_2, 128, 256)\n",
    "conv_4 = conv_block(conv_3, 256, 256)\n",
    "max_pool_4 = max_pool(conv_4)\n",
    "\n",
    "conv_5 = conv_block(max_pool_4, 256, 512)\n",
    "conv_6 = conv_block(conv_5, 512, 512)\n",
    "conv_7 = conv_block(conv_6, 512, 512)\n",
    "max_pool_7 = max_pool(conv_7)\n",
    "\n",
    "max_pool_7_flat = tf.reshape(max_pool_7, [-1, 4608])\n",
    "max_pool_7_flat_dropout = tf.nn.dropout(max_pool_7_flat, keep_prob)\n",
    "\n",
    "W_8 = weight_variable([4608, 1024])\n",
    "fc_8 = fc(max_pool_7_flat_dropout, W_8, depth=1024, keep_prob=keep_prob)\n",
    "\n",
    "W_9 = weight_variable([1024, 256])\n",
    "fc_9 = fc(fc_8, W_9, depth=256, keep_prob=keep_prob)\n",
    "\n",
    "W_10 = weight_variable([256, 10])\n",
    "b_10 = tf.Variable(tf.zeros([10]))\n",
    "y = tf.matmul(fc_9, W_10) + b_10"
   ]
  },
  {
   "cell_type": "code",
   "execution_count": 4,
   "metadata": {
    "collapsed": false
   },
   "outputs": [],
   "source": [
    "y_true = tf.placeholder(tf.float32, [None, 10])\n",
    "reg_strength = tf.placeholder(tf.float32)\n",
    "\n",
    "l2_loss = tf.nn.l2_loss(W_8) + tf.nn.l2_loss(W_9) + tf.nn.l2_loss(W_10)\n",
    "model_loss = tf.reduce_mean(tf.nn.softmax_cross_entropy_with_logits(logits=y, labels=y_true))\n",
    "\n",
    "loss = model_loss + reg_strength * l2_loss\n",
    "\n",
    "learning_rate = tf.Variable(5e-4, trainable=False)\n",
    "lr_update = tf.assign(learning_rate, learning_rate / 10)\n",
    "\n",
    "step = tf.train.AdamOptimizer(learning_rate).minimize(loss)"
   ]
  },
  {
   "cell_type": "code",
   "execution_count": 5,
   "metadata": {
    "collapsed": true
   },
   "outputs": [],
   "source": [
    "sess = tf.Session()"
   ]
  },
  {
   "cell_type": "code",
   "execution_count": 6,
   "metadata": {
    "collapsed": true
   },
   "outputs": [],
   "source": [
    "percent_correct = tf.reduce_mean(tf.cast(tf.equal(tf.argmax(y, 1), tf.argmax(y_true, 1)), tf.float32))"
   ]
  },
  {
   "cell_type": "code",
   "execution_count": 7,
   "metadata": {
    "collapsed": false,
    "scrolled": true
   },
   "outputs": [
    {
     "name": "stdout",
     "output_type": "stream",
     "text": [
      "loss at step 0 w/ lr 5.0e-04: 99.2598266602\n",
      "training accuracy at step 0: 0.104\n",
      "validation accuracy at step 0: 0.118\n",
      "\n",
      "loss at step 3000 w/ lr 5.0e-04: 1.47918581963\n",
      "training accuracy at step 3000: 0.574\n",
      "validation accuracy at step 3000: 0.580\n",
      "\n",
      "loss at step 6000 w/ lr 5.0e-04: 1.6423368454\n",
      "training accuracy at step 6000: 0.716\n",
      "validation accuracy at step 6000: 0.730\n",
      "\n",
      "loss at step 9000 w/ lr 5.0e-04: 0.813971996307\n",
      "training accuracy at step 9000: 0.768\n",
      "validation accuracy at step 9000: 0.800\n",
      "\n",
      "loss at step 12000 w/ lr 5.0e-04: 0.709041118622\n",
      "training accuracy at step 12000: 0.856\n",
      "validation accuracy at step 12000: 0.848\n",
      "\n",
      "loss at step 15000 w/ lr 5.0e-04: 0.662335574627\n",
      "training accuracy at step 15000: 0.864\n",
      "validation accuracy at step 15000: 0.798\n",
      "\n",
      "loss at step 18000 w/ lr 5.0e-04: 0.728141784668\n",
      "training accuracy at step 18000: 0.870\n",
      "validation accuracy at step 18000: 0.818\n",
      "\n",
      "loss at step 21000 w/ lr 5.0e-04: 0.746854484081\n",
      "training accuracy at step 21000: 0.864\n",
      "validation accuracy at step 21000: 0.842\n",
      "\n",
      "loss at step 24000 w/ lr 5.0e-04: 0.675826311111\n",
      "training accuracy at step 24000: 0.914\n",
      "validation accuracy at step 24000: 0.860\n",
      "\n",
      "loss at step 27000 w/ lr 5.0e-04: 0.829754292965\n",
      "training accuracy at step 27000: 0.906\n",
      "validation accuracy at step 27000: 0.876\n",
      "\n",
      "loss at step 30000 w/ lr 5.0e-04: 0.508090376854\n",
      "training accuracy at step 30000: 0.930\n",
      "validation accuracy at step 30000: 0.868\n",
      "\n",
      "loss at step 33000 w/ lr 5.0e-05: 0.196492999792\n",
      "training accuracy at step 33000: 0.966\n",
      "validation accuracy at step 33000: 0.908\n",
      "\n",
      "loss at step 36000 w/ lr 5.0e-05: 0.151946082711\n",
      "training accuracy at step 36000: 0.964\n",
      "validation accuracy at step 36000: 0.916\n",
      "\n",
      "loss at step 39000 w/ lr 5.0e-05: 0.146460831165\n",
      "training accuracy at step 39000: 0.976\n",
      "validation accuracy at step 39000: 0.876\n",
      "\n",
      "loss at step 42000 w/ lr 5.0e-05: 0.302642703056\n",
      "training accuracy at step 42000: 0.980\n",
      "validation accuracy at step 42000: 0.916\n",
      "\n",
      "loss at step 45000 w/ lr 5.0e-06: 0.21286329627\n",
      "training accuracy at step 45000: 0.988\n",
      "validation accuracy at step 45000: 0.918\n",
      "\n",
      "loss at step 48000 w/ lr 5.0e-06: 0.17976988852\n",
      "training accuracy at step 48000: 0.978\n",
      "validation accuracy at step 48000: 0.920\n",
      "\n"
     ]
    }
   ],
   "source": [
    "sess.run(tf.global_variables_initializer())\n",
    "\n",
    "num_batches = 48001\n",
    "\n",
    "losses = []\n",
    "train_accs = []\n",
    "val_accs = []\n",
    "\n",
    "for i in range(num_batches):\n",
    "    x_batch, y_batch = cifar_10.train.next_batch(64)\n",
    "    _, current_loss, lr = sess.run([step, loss, learning_rate], {x: x_batch, y_true: y_batch, keep_prob: 0.5, test_time: False, reg_strength: 0.005})\n",
    "    losses.append(current_loss)\n",
    "    if i % 500 == 0:\n",
    "        train_x, train_y = cifar_10.train.next_batch(500, test_time=True)\n",
    "        train_accs.append(sess.run(percent_correct, feed_dict={x: train_x, y_true: train_y, keep_prob: 1, test_time: True}))\n",
    "        \n",
    "        val_x, val_y = cifar_10.validation.next_batch(500, test_time=True)\n",
    "        val_accs.append(sess.run(percent_correct, feed_dict={x: val_x, y_true: val_y, keep_prob: 1, test_time: True}))\n",
    "        \n",
    "    if i % 3000 == 0:\n",
    "        print 'loss at step {} w/ lr {:.1e}: {}'.format(i, lr, losses[-1])\n",
    "        print 'training accuracy at step {}: {:.3f}'.format(i, train_accs[-1])\n",
    "        print 'validation accuracy at step {}: {:.3f}'.format(i, val_accs[-1])\n",
    "        print ''\n",
    "        \n",
    "    if i == 30000 or i == 42000:\n",
    "        sess.run(lr_update)"
   ]
  },
  {
   "cell_type": "code",
   "execution_count": 8,
   "metadata": {
    "collapsed": false,
    "scrolled": true
   },
   "outputs": [
    {
     "data": {
      "image/png": "[encoded data removed]",
      "text/plain": [
       "<matplotlib.figure.Figure at 0x7f89013fe250>"
      ]
     },
     "metadata": {},
     "output_type": "display_data"
    },
    {
     "data": {
      "image/png": "[encoded data removed]",
      "text/plain": [
       "<matplotlib.figure.Figure at 0x7f8900ec0b10>"
      ]
     },
     "metadata": {},
     "output_type": "display_data"
    },
    {
     "data": {
      "image/png": "[encoded data removed]",
      "text/plain": [
       "<matplotlib.figure.Figure at 0x7f89430be090>"
      ]
     },
     "metadata": {},
     "output_type": "display_data"
    },
    {
     "data": {
      "image/png": "[encoded data removed]",
      "text/plain": [
       "<matplotlib.figure.Figure at 0x7f8900c6f490>"
      ]
     },
     "metadata": {},
     "output_type": "display_data"
    },
    {
     "data": {
      "image/png": "[encoded data removed]",
      "text/plain": [
       "<matplotlib.figure.Figure at 0x7f8900c0b0d0>"
      ]
     },
     "metadata": {},
     "output_type": "display_data"
    },
    {
     "data": {
      "image/png": "[encoded data removed]",
      "text/plain": [
       "<matplotlib.figure.Figure at 0x7f8900b30190>"
      ]
     },
     "metadata": {},
     "output_type": "display_data"
    },
    {
     "data": {
      "image/png": "[encoded data removed]",
      "text/plain": [
       "<matplotlib.figure.Figure at 0x7f8900ba9a10>"
      ]
     },
     "metadata": {},
     "output_type": "display_data"
    }
   ],
   "source": [
    "import visualizations\n",
    "\n",
    "visualizations.plot_learning_curve([losses])\n",
    "visualizations.plot_learning_curve([train_accs, val_accs], x_axis=range(0, num_batches, 500), title='Accuracy')\n",
    "\n",
    "sample_data, sample_labels = cifar_10.validation.next_batch(5, test_time=True)\n",
    "y_pred = sess.run(y, feed_dict={x: sample_data, y_true: sample_labels, keep_prob:1, test_time: True})\n",
    "\n",
    "visualizations.visualize_cifar_10(sample_data, y_pred, sample_labels)"
   ]
  },
  {
   "cell_type": "code",
   "execution_count": 9,
   "metadata": {
    "collapsed": true
   },
   "outputs": [],
   "source": [
    "def get_test_avg():\n",
    "    test_avgs = []\n",
    "\n",
    "    cifar_10.test.reset()\n",
    "\n",
    "    for _ in range(10):\n",
    "        test_x, test_y = cifar_10.test.next_batch(1000, test_time=True)\n",
    "        test_avgs.append(sess.run(percent_correct, feed_dict={x: test_x, y_true: test_y, keep_prob: 1, test_time: True}))\n",
    "\n",
    "    return sum(test_avgs) / 10\n",
    "\n",
    "def get_val_avg():\n",
    "    cifar_10.validation.reset()\n",
    "    \n",
    "    val_x, val_y = cifar_10.validation.next_batch(1000, test_time=True)\n",
    "    val_avg = sess.run(percent_correct, feed_dict={x: val_x, y_true: val_y, keep_prob: 1, test_time: True})\n",
    "\n",
    "    return val_avg\n",
    "\n",
    "def get_train_avg():\n",
    "    test_avgs = []\n",
    "    for _ in range(10):\n",
    "        test_x, test_y = cifar_10.train.next_batch(1000, test_time=True)\n",
    "        test_avgs.append(sess.run(percent_correct, feed_dict={x: test_x, y_true: test_y, keep_prob: 1, test_time: True}))\n",
    "\n",
    "    return sum(test_avgs) / 10"
   ]
  },
  {
   "cell_type": "code",
   "execution_count": 10,
   "metadata": {
    "collapsed": true
   },
   "outputs": [],
   "source": [
    "cifar_10.validation.toggle_freeze()"
   ]
  },
  {
   "cell_type": "code",
   "execution_count": 11,
   "metadata": {
    "collapsed": false
   },
   "outputs": [
    {
     "name": "stdout",
     "output_type": "stream",
     "text": [
      "0.916\n"
     ]
    }
   ],
   "source": [
    "print get_val_avg()"
   ]
  },
  {
   "cell_type": "code",
   "execution_count": 12,
   "metadata": {
    "collapsed": false
   },
   "outputs": [
    {
     "name": "stdout",
     "output_type": "stream",
     "text": [
      "0.912000048161\n"
     ]
    }
   ],
   "source": [
    "print get_test_avg()"
   ]
  },
  {
   "cell_type": "code",
   "execution_count": 13,
   "metadata": {
    "collapsed": false
   },
   "outputs": [
    {
     "name": "stdout",
     "output_type": "stream",
     "text": [
      "0.982800012827\n"
     ]
    }
   ],
   "source": [
    "print get_train_avg()"
   ]
  },
  {
   "cell_type": "code",
   "execution_count": 15,
   "metadata": {
    "collapsed": true
   },
   "outputs": [],
   "source": [
    "sess.close()"
   ]
  },
  {
   "cell_type": "code",
   "execution_count": null,
   "metadata": {
    "collapsed": true
   },
   "outputs": [],
   "source": []
  }
 ],
 "metadata": {
  "kernelspec": {
   "display_name": "Python [tf-gpu]",
   "language": "python",
   "name": "Python [tf-gpu]"
  },
  "language_info": {
   "codemirror_mode": {
    "name": "ipython",
    "version": 2
   },
   "file_extension": ".py",
   "mimetype": "text/x-python",
   "name": "python",
   "nbconvert_exporter": "python",
   "pygments_lexer": "ipython2",
   "version": "2.7.13"
  }
 },
 "nbformat": 4,
 "nbformat_minor": 0
}
