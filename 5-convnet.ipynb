{
 "cells": [
  {
   "cell_type": "code",
   "execution_count": 1,
   "metadata": {
    "collapsed": false
   },
   "outputs": [
    {
     "name": "stdout",
     "output_type": "stream",
     "text": [
      "Downloading cifar-10-python.tar.gz\n",
      "Successfully downloaded cifar-10-python.tar.gz 170498071 bytes.\n",
      "Extracting cifar-10-python.tar.gz\n",
      "Finished extracting cifar-10-python.tar.gz\n",
      "Unpickling and reshaping data\n",
      "Finished unpickling and reshaping data\n"
     ]
    }
   ],
   "source": [
    "import tensorflow as tf\n",
    "from get_data import get_cifar_10\n",
    "cifar_10 = get_cifar_10(\"data/cifar_10/\")"
   ]
  },
  {
   "cell_type": "code",
   "execution_count": null,
   "metadata": {
    "collapsed": true
   },
   "outputs": [],
   "source": []
  }
 ],
 "metadata": {
  "kernelspec": {
   "display_name": "Python [tf-gpu]",
   "language": "python",
   "name": "Python [tf-gpu]"
  },
  "language_info": {
   "codemirror_mode": {
    "name": "ipython",
    "version": 2
   },
   "file_extension": ".py",
   "mimetype": "text/x-python",
   "name": "python",
   "nbconvert_exporter": "python",
   "pygments_lexer": "ipython2",
   "version": "2.7.13"
  }
 },
 "nbformat": 4,
 "nbformat_minor": 0
}
