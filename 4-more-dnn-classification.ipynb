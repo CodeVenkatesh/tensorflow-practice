{
 "cells": [
  {
   "cell_type": "code",
   "execution_count": 1,
   "metadata": {
    "collapsed": false
   },
   "outputs": [
    {
     "name": "stdout",
     "output_type": "stream",
     "text": [
      "Extracting data/mnist/train-images-idx3-ubyte.gz\n",
      "Extracting data/mnist/train-labels-idx1-ubyte.gz\n",
      "Extracting data/mnist/t10k-images-idx3-ubyte.gz\n",
      "Extracting data/mnist/t10k-labels-idx1-ubyte.gz\n"
     ]
    }
   ],
   "source": [
    "import tensorflow as tf\n",
    "from tensorflow.examples.tutorials.mnist import input_data\n",
    "mnist = input_data.read_data_sets(\"data/mnist/\", one_hot=True)"
   ]
  },
  {
   "cell_type": "code",
   "execution_count": 2,
   "metadata": {
    "collapsed": true
   },
   "outputs": [],
   "source": [
    "def weight_var(shape):\n",
    "    return tf.Variable(tf.truncated_normal(shape, stddev=0.1))\n",
    "\n",
    "def bias_var(shape):\n",
    "    return tf.Variable(tf.zeros(shape))"
   ]
  },
  {
   "cell_type": "code",
   "execution_count": 3,
   "metadata": {
    "collapsed": true
   },
   "outputs": [],
   "source": [
    "keep_prob = tf.placeholder(tf.float32)\n",
    "\n",
    "x = tf.placeholder(tf.float32, [None, 784])\n",
    "W_1 = weight_var([784, 256])\n",
    "b_1 = bias_var([256])\n",
    "layer_1 = tf.nn.dropout(tf.nn.relu(tf.matmul(x, W_1) + b_1), keep_prob)\n",
    "\n",
    "W_2 = weight_var([256, 64])\n",
    "b_2 = bias_var([64])\n",
    "layer_2 = tf.nn.dropout(tf.nn.relu(tf.matmul(layer_1, W_2) + b_2), keep_prob)\n",
    "\n",
    "W_3 = weight_var([64, 10])\n",
    "b_3 = bias_var([10])\n",
    "y = tf.matmul(layer_2, W_3) + b_3"
   ]
  },
  {
   "cell_type": "code",
   "execution_count": 4,
   "metadata": {
    "collapsed": true
   },
   "outputs": [],
   "source": [
    "y_true = tf.placeholder(tf.float32, [None, 10])\n",
    "\n",
    "loss = tf.reduce_mean(tf.nn.softmax_cross_entropy_with_logits(logits=y, labels=y_true))\n",
    "\n",
    "step = tf.train.AdamOptimizer(1e-4).minimize(loss)"
   ]
  },
  {
   "cell_type": "code",
   "execution_count": 5,
   "metadata": {
    "collapsed": true
   },
   "outputs": [],
   "source": [
    "sess = tf.Session()"
   ]
  },
  {
   "cell_type": "code",
   "execution_count": 6,
   "metadata": {
    "collapsed": false
   },
   "outputs": [
    {
     "name": "stdout",
     "output_type": "stream",
     "text": [
      "loss at step 0: 2.49743151665\n",
      "loss at step 10000: 0.130746558309\n",
      "loss at step 20000: 0.0503890067339\n",
      "loss at step 30000: 0.00659988820553\n",
      "loss at step 40000: 0.00540697947145\n",
      "loss at step 50000: 0.0266605876386\n",
      "loss at step 60000: 0.00170880719088\n",
      "loss at step 70000: 0.00188724615145\n",
      "loss at step 80000: 0.00165339093655\n",
      "loss at step 90000: 0.00243233796209\n",
      "loss at step 100000: 0.000524868490174\n",
      "loss at step 110000: 0.00244512758218\n",
      "loss at step 120000: 0.00116256403271\n",
      "loss at step 130000: 0.000401621276978\n",
      "loss at step 140000: 0.000486428092699\n",
      "loss at step 150000: 0.00151476450264\n"
     ]
    }
   ],
   "source": [
    "sess.run(tf.global_variables_initializer())\n",
    "\n",
    "for i in range(150001):\n",
    "    x_batch, y_batch = mnist.train.next_batch(256)\n",
    "    _, current_loss = sess.run([step, loss], {x: x_batch, y_true: y_batch, keep_prob: 0.75})\n",
    "    if i % 10000 == 0:\n",
    "        print \"loss at step {}: {}\".format(i, current_loss)"
   ]
  },
  {
   "cell_type": "code",
   "execution_count": 7,
   "metadata": {
    "collapsed": false
   },
   "outputs": [
    {
     "name": "stdout",
     "output_type": "stream",
     "text": [
      "0.9834\n"
     ]
    }
   ],
   "source": [
    "percent_correct = tf.reduce_mean(tf.cast(tf.equal(tf.argmax(y, 1), tf.argmax(y_true, 1)), tf.float32))\n",
    "print sess.run(percent_correct, feed_dict={x: mnist.test.images, y_true: mnist.test.labels, keep_prob: 1})"
   ]
  },
  {
   "cell_type": "code",
   "execution_count": null,
   "metadata": {
    "collapsed": true
   },
   "outputs": [],
   "source": []
  }
 ],
 "metadata": {
  "kernelspec": {
   "display_name": "Python [tf-gpu]",
   "language": "python",
   "name": "Python [tf-gpu]"
  },
  "language_info": {
   "codemirror_mode": {
    "name": "ipython",
    "version": 2
   },
   "file_extension": ".py",
   "mimetype": "text/x-python",
   "name": "python",
   "nbconvert_exporter": "python",
   "pygments_lexer": "ipython2",
   "version": "2.7.13"
  }
 },
 "nbformat": 4,
 "nbformat_minor": 0
}
